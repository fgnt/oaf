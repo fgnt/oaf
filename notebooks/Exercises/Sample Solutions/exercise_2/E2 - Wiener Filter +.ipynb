{
 "cells": [
  {
   "cell_type": "markdown",
   "metadata": {
    "nbpresent": {
     "id": "59f304ea-810f-4f22-a5f8-bd0785a2b4dc"
    }
   },
   "source": [
    "# Exercise 2: Wiener Filter"
   ]
  },
  {
   "cell_type": "code",
   "execution_count": 1,
   "metadata": {
    "collapsed": true,
    "nbpresent": {
     "id": "b66bc35d-66a3-4631-aedf-0027756b6635"
    }
   },
   "outputs": [],
   "source": [
    "%matplotlib inline\n",
    "\n",
    "import numpy as np\n",
    "import matplotlib.pyplot as plt\n",
    "from ipywidgets.widgets import interact, IntSlider, FloatSlider\n",
    "from IPython.display import display\n",
    "plt.rcParams['font.size'] = 20\n",
    "plt.rcParams['legend.fontsize'] = 10\n",
    "plt.rcParams['figure.figsize'] = (6, 4)\n",
    "plt.rcParams['lines.linewidth'] = 2.0\n",
    "plt.rcParams['figure.subplot.hspace'] = 0.4"
   ]
  },
  {
   "cell_type": "markdown",
   "metadata": {
    "nbpresent": {
     "id": "02e32699-0363-47b4-8a54-3ccbcaac580e"
    }
   },
   "source": [
    "## 2.1.d: Obtain all correllations"
   ]
  },
  {
   "cell_type": "code",
   "execution_count": 2,
   "metadata": {
    "collapsed": false,
    "nbpresent": {
     "id": "2f70c1fb-86f1-4afe-b41e-8c0ac9423976"
    },
    "scrolled": true
   },
   "outputs": [
    {
     "data": {
      "text/plain": [
       "array([ 1.  ,  0.5 ,  0.85])"
      ]
     },
     "execution_count": 2,
     "metadata": {},
     "output_type": "execute_result"
    }
   ],
   "source": [
    "akf_alpha = np.asarray([1, 0.5, 0.85])\n",
    "akf_alpha"
   ]
  },
  {
   "cell_type": "code",
   "execution_count": 3,
   "metadata": {
    "collapsed": false,
    "nbpresent": {
     "id": "bb09ac8c-e613-4410-ade3-80c95f9e49d1"
    }
   },
   "outputs": [],
   "source": [
    "def get_index_matrix(D):\n",
    "    indices = np.arange(0, D)\n",
    "    index_matrix = indices[None, :] - indices[:, None]\n",
    "    return np.abs(index_matrix)\n",
    "\n",
    "# print(get_index_matrix(2))\n",
    "# print(get_index_matrix(3))\n",
    "# print(get_index_matrix(4))"
   ]
  },
  {
   "cell_type": "code",
   "execution_count": 4,
   "metadata": {
    "collapsed": false,
    "nbpresent": {
     "id": "c29c40d4-e8ad-4c3e-9383-ed3f615c3d46"
    }
   },
   "outputs": [
    {
     "data": {
      "text/plain": [
       "array([[ 1.  ,  0.5 ,  0.85],\n",
       "       [ 0.5 ,  1.  ,  0.5 ],\n",
       "       [ 0.85,  0.5 ,  1.  ]])"
      ]
     },
     "execution_count": 4,
     "metadata": {},
     "output_type": "execute_result"
    }
   ],
   "source": [
    "correlation_matrix_alpha = akf_alpha[get_index_matrix(3)]\n",
    "correlation_matrix_alpha"
   ]
  },
  {
   "cell_type": "code",
   "execution_count": 5,
   "metadata": {
    "collapsed": false,
    "nbpresent": {
     "id": "e5a7c336-8352-45ef-b85b-42e4c8d1a994"
    }
   },
   "outputs": [
    {
     "data": {
      "text/plain": [
       "array([[ 0.1,  0. ,  0. ],\n",
       "       [ 0. ,  0.1,  0. ],\n",
       "       [ 0. ,  0. ,  0.1]])"
      ]
     },
     "execution_count": 5,
     "metadata": {},
     "output_type": "execute_result"
    }
   ],
   "source": [
    "noise_variance = np.asarray(0.1)\n",
    "correlation_matrix_noise = noise_variance * np.eye(3)\n",
    "correlation_matrix_noise"
   ]
  },
  {
   "cell_type": "code",
   "execution_count": 6,
   "metadata": {
    "collapsed": false,
    "nbpresent": {
     "id": "18cd3672-e5c0-47eb-985a-bce4df543665"
    }
   },
   "outputs": [
    {
     "data": {
      "text/plain": [
       "array([[ 0.51961524],\n",
       "       [ 0.        ],\n",
       "       [ 0.        ]])"
      ]
     },
     "execution_count": 6,
     "metadata": {},
     "output_type": "execute_result"
    }
   ],
   "source": [
    "crosscorrelation_vector = np.asarray(\n",
    "    [\n",
    "        [np.sqrt(0.27)],\n",
    "        [0],\n",
    "        [0]\n",
    "    ]\n",
    ")\n",
    "crosscorrelation_vector"
   ]
  },
  {
   "cell_type": "markdown",
   "metadata": {
    "nbpresent": {
     "id": "f4e700e7-cbe6-450a-b350-022e8c97bf6e"
    }
   },
   "source": [
    "## 2.1.d: Optimal filter coefficients"
   ]
  },
  {
   "cell_type": "markdown",
   "metadata": {
    "nbpresent": {
     "id": "76ad0c35-fcc0-4db9-bd8c-d312614ac15a"
    }
   },
   "source": [
    "### Noisy"
   ]
  },
  {
   "cell_type": "code",
   "execution_count": 7,
   "metadata": {
    "collapsed": true,
    "nbpresent": {
     "id": "1bd7850f-5ff8-400a-bd06-ef890950c55c"
    }
   },
   "outputs": [],
   "source": [
    "correlation_matrix_inverse = np.linalg.inv(correlation_matrix_alpha + correlation_matrix_noise)"
   ]
  },
  {
   "cell_type": "code",
   "execution_count": 8,
   "metadata": {
    "collapsed": false,
    "nbpresent": {
     "id": "a0a82e87-9b5d-4d2b-9ab3-fac4905e5f8f"
    },
    "scrolled": true
   },
   "outputs": [
    {
     "data": {
      "text/plain": [
       "array([[ 1.21296202],\n",
       "       [-0.15793776],\n",
       "       [-0.86549894]])"
      ]
     },
     "execution_count": 8,
     "metadata": {},
     "output_type": "execute_result"
    }
   ],
   "source": [
    "optimal_coefficients = correlation_matrix_inverse @ crosscorrelation_vector\n",
    "optimal_coefficients"
   ]
  },
  {
   "cell_type": "markdown",
   "metadata": {
    "nbpresent": {
     "id": "c82ae373-9883-4cce-97bf-5dd2fa44bc7f"
    }
   },
   "source": [
    "### Clean"
   ]
  },
  {
   "cell_type": "code",
   "execution_count": 9,
   "metadata": {
    "collapsed": true,
    "nbpresent": {
     "id": "3fb96930-b90f-4717-ab13-ac265d95e72a"
    }
   },
   "outputs": [],
   "source": [
    "correlation_matrix_inverse = np.linalg.inv(correlation_matrix_alpha)"
   ]
  },
  {
   "cell_type": "code",
   "execution_count": 10,
   "metadata": {
    "collapsed": false,
    "nbpresent": {
     "id": "cf6ca053-44db-4a6b-9205-4a9684901cce"
    },
    "scrolled": true
   },
   "outputs": [
    {
     "data": {
      "text/plain": [
       "array([[ 1.9245009 ],\n",
       "       [-0.19245009],\n",
       "       [-1.53960072]])"
      ]
     },
     "execution_count": 10,
     "metadata": {},
     "output_type": "execute_result"
    }
   ],
   "source": [
    "optimal_coefficients = correlation_matrix_inverse @ crosscorrelation_vector\n",
    "optimal_coefficients"
   ]
  },
  {
   "cell_type": "markdown",
   "metadata": {
    "nbpresent": {
     "id": "50d8bdf4-ff04-4ef8-bb54-e22f244e2e2f"
    }
   },
   "source": [
    "## 2.1.e: Mean squared error"
   ]
  },
  {
   "cell_type": "markdown",
   "metadata": {
    "nbpresent": {
     "id": "e9e6a2e2-bc65-402c-94fd-5d0ed48ea27f"
    }
   },
   "source": [
    "### Noisy"
   ]
  },
  {
   "cell_type": "code",
   "execution_count": 11,
   "metadata": {
    "collapsed": true,
    "nbpresent": {
     "id": "9e78a7c8-3ca2-4897-8223-cd23c43af711"
    }
   },
   "outputs": [],
   "source": [
    "correlation_matrix_inverse = np.linalg.inv(correlation_matrix_alpha + correlation_matrix_noise)"
   ]
  },
  {
   "cell_type": "code",
   "execution_count": 12,
   "metadata": {
    "collapsed": false,
    "nbpresent": {
     "id": "f62837cb-e368-45cb-a60d-dfa661b93563"
    }
   },
   "outputs": [
    {
     "data": {
      "text/plain": [
       "array([[ 0.36972644]])"
      ]
     },
     "execution_count": 12,
     "metadata": {},
     "output_type": "execute_result"
    }
   ],
   "source": [
    "input_variance = 1\n",
    "mse = input_variance - crosscorrelation_vector.conj().T @ correlation_matrix_inverse @ crosscorrelation_vector\n",
    "mse"
   ]
  },
  {
   "cell_type": "markdown",
   "metadata": {
    "nbpresent": {
     "id": "8c713410-2017-4898-9fec-69f9b3e66aa9"
    }
   },
   "source": [
    "### Clean"
   ]
  },
  {
   "cell_type": "code",
   "execution_count": 13,
   "metadata": {
    "collapsed": true,
    "nbpresent": {
     "id": "7386069b-9381-47ee-9b5d-9e4e2f3b595f"
    }
   },
   "outputs": [],
   "source": [
    "correlation_matrix_inverse = np.linalg.inv(correlation_matrix_alpha)"
   ]
  },
  {
   "cell_type": "code",
   "execution_count": 14,
   "metadata": {
    "collapsed": false,
    "nbpresent": {
     "id": "dc01e7ce-1b3e-4326-9cf3-b45007ff23bf"
    }
   },
   "outputs": [
    {
     "data": {
      "text/plain": [
       "array([[ 0.]])"
      ]
     },
     "execution_count": 14,
     "metadata": {},
     "output_type": "execute_result"
    }
   ],
   "source": [
    "input_variance = 1\n",
    "mse = input_variance - crosscorrelation_vector.conj().T @ correlation_matrix_inverse @ crosscorrelation_vector\n",
    "mse"
   ]
  },
  {
   "cell_type": "markdown",
   "metadata": {
    "nbpresent": {
     "id": "39e47e0a-3c88-4530-bb84-89227895da3f"
    }
   },
   "source": [
    "## 2.1.e: More coefficients"
   ]
  },
  {
   "cell_type": "code",
   "execution_count": 15,
   "metadata": {
    "collapsed": false,
    "nbpresent": {
     "id": "6c9e8eee-71e4-4b6f-9c67-6768d0363935"
    },
    "scrolled": true
   },
   "outputs": [
    {
     "data": {
      "text/plain": [
       "array([ 1.   ,  0.5  ,  0.85 ,  0.485])"
      ]
     },
     "execution_count": 15,
     "metadata": {},
     "output_type": "execute_result"
    }
   ],
   "source": [
    "akf_alpha = np.asarray([1, 0.5, 0.85, 0.485])\n",
    "akf_alpha"
   ]
  },
  {
   "cell_type": "code",
   "execution_count": 16,
   "metadata": {
    "collapsed": false,
    "nbpresent": {
     "id": "d0d1b89a-8395-4121-8f61-72f7c1a23b7f"
    },
    "scrolled": true
   },
   "outputs": [
    {
     "data": {
      "text/plain": [
       "array([[ 1.   ,  0.5  ,  0.85 ,  0.485],\n",
       "       [ 0.5  ,  1.   ,  0.5  ,  0.85 ],\n",
       "       [ 0.85 ,  0.5  ,  1.   ,  0.5  ],\n",
       "       [ 0.485,  0.85 ,  0.5  ,  1.   ]])"
      ]
     },
     "execution_count": 16,
     "metadata": {},
     "output_type": "execute_result"
    }
   ],
   "source": [
    "correlation_matrix_alpha = akf_alpha[get_index_matrix(4)]\n",
    "correlation_matrix_alpha"
   ]
  },
  {
   "cell_type": "code",
   "execution_count": 17,
   "metadata": {
    "collapsed": false,
    "nbpresent": {
     "id": "f8c5039a-5be2-4ee4-8b88-945dfb06e111"
    }
   },
   "outputs": [
    {
     "data": {
      "text/plain": [
       "array([[ 0.1,  0. ,  0. ,  0. ],\n",
       "       [ 0. ,  0.1,  0. ,  0. ],\n",
       "       [ 0. ,  0. ,  0.1,  0. ],\n",
       "       [ 0. ,  0. ,  0. ,  0.1]])"
      ]
     },
     "execution_count": 17,
     "metadata": {},
     "output_type": "execute_result"
    }
   ],
   "source": [
    "noise_variance = np.asarray(0.1)\n",
    "correlation_matrix_noise = noise_variance * np.eye(4)\n",
    "correlation_matrix_noise"
   ]
  },
  {
   "cell_type": "code",
   "execution_count": 18,
   "metadata": {
    "collapsed": false,
    "nbpresent": {
     "id": "61843dc2-641c-4960-90ec-6584b816952e"
    }
   },
   "outputs": [
    {
     "data": {
      "text/plain": [
       "array([[ 0.51961524],\n",
       "       [ 0.        ],\n",
       "       [ 0.        ],\n",
       "       [ 0.        ]])"
      ]
     },
     "execution_count": 18,
     "metadata": {},
     "output_type": "execute_result"
    }
   ],
   "source": [
    "crosscorrelation_vector = np.asarray(\n",
    "    [\n",
    "        [np.sqrt(0.27)],\n",
    "        [0],\n",
    "        [0],\n",
    "        [0]\n",
    "    ]\n",
    ")\n",
    "crosscorrelation_vector"
   ]
  },
  {
   "cell_type": "markdown",
   "metadata": {
    "nbpresent": {
     "id": "58ce7bec-d9ef-474e-8a6a-2330465b19d2"
    }
   },
   "source": [
    "### Noisy"
   ]
  },
  {
   "cell_type": "code",
   "execution_count": 19,
   "metadata": {
    "collapsed": true,
    "nbpresent": {
     "id": "78819cbe-2c36-4c5c-b974-1edef6a94a1d"
    }
   },
   "outputs": [],
   "source": [
    "correlation_matrix_inverse = np.linalg.inv(correlation_matrix_alpha + correlation_matrix_noise)"
   ]
  },
  {
   "cell_type": "code",
   "execution_count": 20,
   "metadata": {
    "collapsed": false,
    "nbpresent": {
     "id": "a0f251cc-4e31-4138-8bab-956211f005e4"
    }
   },
   "outputs": [
    {
     "data": {
      "text/plain": [
       "array([[ 1.21500172],\n",
       "       [-0.12268194],\n",
       "       [-0.86047234],\n",
       "       [-0.04978183]])"
      ]
     },
     "execution_count": 20,
     "metadata": {},
     "output_type": "execute_result"
    }
   ],
   "source": [
    "optimal_coefficients = correlation_matrix_inverse @ crosscorrelation_vector\n",
    "optimal_coefficients"
   ]
  },
  {
   "cell_type": "code",
   "execution_count": 21,
   "metadata": {
    "collapsed": false,
    "nbpresent": {
     "id": "f71a3b19-5b04-4b6c-b316-04a54f6fd0cb"
    }
   },
   "outputs": [
    {
     "data": {
      "text/plain": [
       "array([[ 0.36866659]])"
      ]
     },
     "execution_count": 21,
     "metadata": {},
     "output_type": "execute_result"
    }
   ],
   "source": [
    "input_variance = 1\n",
    "mse = input_variance - crosscorrelation_vector.conj().T @ correlation_matrix_inverse @ crosscorrelation_vector\n",
    "mse"
   ]
  },
  {
   "cell_type": "markdown",
   "metadata": {
    "nbpresent": {
     "id": "468666e3-ead8-4144-aabf-896e8b1b356d"
    }
   },
   "source": [
    "### Clean"
   ]
  },
  {
   "cell_type": "code",
   "execution_count": 22,
   "metadata": {
    "collapsed": true,
    "nbpresent": {
     "id": "effb22ce-973e-4902-abd8-55b72c429e6d"
    }
   },
   "outputs": [],
   "source": [
    "correlation_matrix_inverse = np.linalg.inv(correlation_matrix_alpha)"
   ]
  },
  {
   "cell_type": "code",
   "execution_count": 23,
   "metadata": {
    "collapsed": false,
    "nbpresent": {
     "id": "88ff9d5f-e7ea-4f75-8577-ea8b8e5a0035"
    },
    "scrolled": true
   },
   "outputs": [
    {
     "data": {
      "text/plain": [
       "array([[  1.92450090e+00],\n",
       "       [ -1.92450090e-01],\n",
       "       [ -1.53960072e+00],\n",
       "       [ -1.28197512e-17]])"
      ]
     },
     "execution_count": 23,
     "metadata": {},
     "output_type": "execute_result"
    }
   ],
   "source": [
    "optimal_coefficients = correlation_matrix_inverse @ crosscorrelation_vector\n",
    "optimal_coefficients"
   ]
  },
  {
   "cell_type": "code",
   "execution_count": 24,
   "metadata": {
    "collapsed": false,
    "nbpresent": {
     "id": "12374d1c-f179-4ac5-b1b6-d4ab0e03275e"
    }
   },
   "outputs": [
    {
     "data": {
      "text/plain": [
       "array([[ 0.]])"
      ]
     },
     "execution_count": 24,
     "metadata": {},
     "output_type": "execute_result"
    }
   ],
   "source": [
    "input_variance = 1\n",
    "mse = input_variance - crosscorrelation_vector.conj().T @ correlation_matrix_inverse @ crosscorrelation_vector\n",
    "mse"
   ]
  },
  {
   "cell_type": "markdown",
   "metadata": {
    "nbpresent": {
     "id": "10b58637-671c-4e89-8273-4183822beaa7"
    }
   },
   "source": [
    "## 2.1.f: Error plane"
   ]
  },
  {
   "cell_type": "code",
   "execution_count": 25,
   "metadata": {
    "collapsed": false,
    "nbpresent": {
     "id": "8812c7dd-65c3-453b-99b7-cb73a10b9b9d"
    }
   },
   "outputs": [
    {
     "data": {
      "image/png": "[encoded data removed]",
      "text/plain": [
       "<matplotlib.figure.Figure at 0x7f976ce15278>"
      ]
     },
     "metadata": {},
     "output_type": "display_data"
    },
    {
     "data": {
      "image/png": "[encoded data removed]",
      "text/plain": [
       "<matplotlib.figure.Figure at 0x7f976c8f5ac8>"
      ]
     },
     "metadata": {},
     "output_type": "display_data"
    }
   ],
   "source": [
    "from mpl_toolkits.mplot3d import Axes3D\n",
    "from matplotlib import cm\n",
    "from matplotlib.ticker import LinearLocator, FormatStrFormatter\n",
    "import matplotlib.pyplot as plt\n",
    "import numpy as np\n",
    "\n",
    "fig = plt.figure()\n",
    "ax = fig.gca()\n",
    "x = np.arange(-2, 2, 0.1)\n",
    "y = np.arange(-2, 2, 0.1)\n",
    "xx, yy = np.meshgrid(x, y, sparse=True)\n",
    "z = input_variance \\\n",
    "    - 2 * (xx * crosscorrelation_vector[0] + yy * crosscorrelation_vector[1]) \\\n",
    "    + (xx**2 + yy**2) * crosscorrelation_vector[0] \\\n",
    "    + 2 * xx * yy * crosscorrelation_vector[1]\n",
    "h = plt.contourf(x, y, z, cmap=cm.coolwarm)\n",
    "\n",
    "ax.xaxis.set_major_locator(LinearLocator(3))\n",
    "ax.xaxis.set_major_formatter(FormatStrFormatter('%.00f'))\n",
    "ax.yaxis.set_major_locator(LinearLocator(3))\n",
    "ax.yaxis.set_major_formatter(FormatStrFormatter('%.00f'))\n",
    "\n",
    "plt.show()\n",
    "\n",
    "fig = plt.figure()\n",
    "ax = fig.gca(projection='3d')\n",
    "surf = ax.plot_surface(xx, yy, z, rstride=1, cstride=1, cmap=cm.coolwarm, linewidth=0, antialiased=False)\n",
    "ax.set_zlim(1, 5)\n",
    "\n",
    "ax.xaxis.set_major_locator(LinearLocator(3))\n",
    "ax.xaxis.set_major_formatter(FormatStrFormatter('%.00f'))\n",
    "ax.yaxis.set_major_locator(LinearLocator(3))\n",
    "ax.yaxis.set_major_formatter(FormatStrFormatter('%.00f'))\n",
    "ax.zaxis.set_major_locator(LinearLocator(3))\n",
    "ax.zaxis.set_major_formatter(FormatStrFormatter('%.00f'))\n",
    "\n",
    "\n",
    "plt.show()"
   ]
  },
  {
   "cell_type": "code",
   "execution_count": null,
   "metadata": {
    "collapsed": true
   },
   "outputs": [],
   "source": []
  }
 ],
 "metadata": {
  "anaconda-cloud": {},
  "kernelspec": {
   "display_name": "Python [default]",
   "language": "python",
   "name": "python3"
  },
  "language_info": {
   "codemirror_mode": {
    "name": "ipython",
    "version": 3
   },
   "file_extension": ".py",
   "mimetype": "text/x-python",
   "name": "python",
   "nbconvert_exporter": "python",
   "pygments_lexer": "ipython3",
   "version": "3.5.2"
  },
  "nbpresent": {
   "slides": {
    "0a37f1a1-ebc7-49bc-9136-891c9154c3fc": {
     "id": "0a37f1a1-ebc7-49bc-9136-891c9154c3fc",
     "prev": "40849311-3058-47a6-8613-832b3f3ce5ce",
     "regions": {
      "a36a43fe-d39c-472c-b2de-6a8def1e24e8": {
       "attrs": {
        "height": 0.8,
        "width": 0.8,
        "x": 0.1,
        "y": 0.1
       },
       "content": {
        "cell": "10b58637-671c-4e89-8273-4183822beaa7",
        "part": "whole"
       },
       "id": "a36a43fe-d39c-472c-b2de-6a8def1e24e8"
      }
     }
    },
    "27082cc6-ae99-4674-bf47-02f23d9bdee4": {
     "id": "27082cc6-ae99-4674-bf47-02f23d9bdee4",
     "prev": "abc666db-2039-4bef-a452-f15cbc40807d",
     "regions": {
      "308f5ad4-32c7-4ae6-92e9-1b9f41edb79f": {
       "attrs": {
        "height": 0.8,
        "width": 0.8,
        "x": 0.1,
        "y": 0.1
       },
       "content": {
        "cell": "b66bc35d-66a3-4631-aedf-0027756b6635",
        "part": "whole"
       },
       "id": "308f5ad4-32c7-4ae6-92e9-1b9f41edb79f"
      }
     }
    },
    "3f900254-2fd9-4ec1-a379-0f7ffdde1eb6": {
     "id": "3f900254-2fd9-4ec1-a379-0f7ffdde1eb6",
     "prev": "b12f49c2-56df-43b9-a722-99d45704ef93",
     "regions": {
      "8802aa5f-6d71-4520-9480-38cba348d875": {
       "attrs": {
        "height": 0.8,
        "width": 0.8,
        "x": 0.1,
        "y": 0.1
       },
       "content": {
        "cell": "dc01e7ce-1b3e-4326-9cf3-b45007ff23bf",
        "part": "whole"
       },
       "id": "8802aa5f-6d71-4520-9480-38cba348d875"
      }
     }
    },
    "40849311-3058-47a6-8613-832b3f3ce5ce": {
     "id": "40849311-3058-47a6-8613-832b3f3ce5ce",
     "prev": "be5dd051-08b9-4b75-bfee-69aec8dc8bd4",
     "regions": {
      "fa08bcc0-8c19-4954-995c-5831989e7a50": {
       "attrs": {
        "height": 0.8,
        "width": 0.8,
        "x": 0.1,
        "y": 0.1
       },
       "content": {
        "cell": "12374d1c-f179-4ac5-b1b6-d4ab0e03275e",
        "part": "whole"
       },
       "id": "fa08bcc0-8c19-4954-995c-5831989e7a50"
      }
     }
    },
    "4156c987-4ae8-4b97-a5ab-5594bd0e197f": {
     "id": "4156c987-4ae8-4b97-a5ab-5594bd0e197f",
     "prev": "b29c49c9-7ee4-4ed3-89ca-a3737e8048d5",
     "regions": {
      "1f07cf0b-9547-4ef9-a05c-daa7a326bc4b": {
       "attrs": {
        "height": 0.8,
        "width": 0.8,
        "x": 0.1,
        "y": 0.1
       },
       "content": {
        "cell": "bb09ac8c-e613-4410-ade3-80c95f9e49d1",
        "part": "whole"
       },
       "id": "1f07cf0b-9547-4ef9-a05c-daa7a326bc4b"
      }
     }
    },
    "41cc0c3f-dd45-4ed9-a0fa-c9a703a03650": {
     "id": "41cc0c3f-dd45-4ed9-a0fa-c9a703a03650",
     "prev": "7e76bac6-a772-4ceb-99c8-d79e09515689",
     "regions": {
      "3d7d5b0f-ac0e-4699-9aaa-85d54f45dbf0": {
       "attrs": {
        "height": 0.8,
        "width": 0.8,
        "x": 0.1,
        "y": 0.1
       },
       "content": {
        "cell": "f4e700e7-cbe6-450a-b350-022e8c97bf6e",
        "part": "whole"
       },
       "id": "3d7d5b0f-ac0e-4699-9aaa-85d54f45dbf0"
      }
     }
    },
    "4616a1e0-bfc2-45cb-85d8-bb995dd170e7": {
     "id": "4616a1e0-bfc2-45cb-85d8-bb995dd170e7",
     "prev": "5bf3eb03-4298-4fae-b8e7-3add52071e44",
     "regions": {
      "4c81ac35-cd91-40ad-afd8-dff7d203ae48": {
       "attrs": {
        "height": 0.8,
        "width": 0.8,
        "x": 0.1,
        "y": 0.1
       },
       "content": {
        "cell": "f71a3b19-5b04-4b6c-b316-04a54f6fd0cb",
        "part": "whole"
       },
       "id": "4c81ac35-cd91-40ad-afd8-dff7d203ae48"
      }
     }
    },
    "46a8ce3d-f78f-4947-a59a-268d084d0b58": {
     "id": "46a8ce3d-f78f-4947-a59a-268d084d0b58",
     "prev": "4749eaa1-a019-4ce0-89e8-b14fee9ab0a5",
     "regions": {
      "5c283036-f175-4e30-94bb-db4f1f276da8": {
       "attrs": {
        "height": 0.8,
        "width": 0.8,
        "x": 0.1,
        "y": 0.1
       },
       "content": {
        "cell": "6c9e8eee-71e4-4b6f-9c67-6768d0363935",
        "part": "whole"
       },
       "id": "5c283036-f175-4e30-94bb-db4f1f276da8"
      }
     }
    },
    "4749eaa1-a019-4ce0-89e8-b14fee9ab0a5": {
     "id": "4749eaa1-a019-4ce0-89e8-b14fee9ab0a5",
     "prev": "3f900254-2fd9-4ec1-a379-0f7ffdde1eb6",
     "regions": {
      "4f3bf455-0c49-464a-abd5-21f54284e974": {
       "attrs": {
        "height": 0.8,
        "width": 0.8,
        "x": 0.1,
        "y": 0.1
       },
       "content": {
        "cell": "39e47e0a-3c88-4530-bb84-89227895da3f",
        "part": "whole"
       },
       "id": "4f3bf455-0c49-464a-abd5-21f54284e974"
      }
     }
    },
    "49f840a1-ced0-4f06-bffa-b2bc222f7c8d": {
     "id": "49f840a1-ced0-4f06-bffa-b2bc222f7c8d",
     "prev": "68f51cf9-f1ad-4124-961e-05ab431c7ff7",
     "regions": {
      "88cff112-bd4b-4122-9993-79ebf0888733": {
       "attrs": {
        "height": 0.8,
        "width": 0.8,
        "x": 0.1,
        "y": 0.1
       },
       "content": {
        "cell": "50d8bdf4-ff04-4ef8-bb54-e22f244e2e2f",
        "part": "whole"
       },
       "id": "88cff112-bd4b-4122-9993-79ebf0888733"
      }
     }
    },
    "4bce0036-880a-4149-976e-363d27a90a80": {
     "id": "4bce0036-880a-4149-976e-363d27a90a80",
     "prev": "4156c987-4ae8-4b97-a5ab-5594bd0e197f",
     "regions": {
      "935854a4-3d53-4597-9fc0-dee76960aacb": {
       "attrs": {
        "height": 0.8,
        "width": 0.8,
        "x": 0.1,
        "y": 0.1
       },
       "content": {
        "cell": "c29c40d4-e8ad-4c3e-9383-ed3f615c3d46",
        "part": "whole"
       },
       "id": "935854a4-3d53-4597-9fc0-dee76960aacb"
      }
     }
    },
    "508d109c-dc6f-46e7-b1f9-faa23a0ac9b4": {
     "id": "508d109c-dc6f-46e7-b1f9-faa23a0ac9b4",
     "prev": "859b53bb-978e-4fa3-b877-2078f4784f6e",
     "regions": {
      "aa74c995-8bc7-44af-b5e3-73de7565c867": {
       "attrs": {
        "height": 0.8,
        "width": 0.8,
        "x": 0.1,
        "y": 0.1
       },
       "content": {
        "cell": "9e78a7c8-3ca2-4897-8223-cd23c43af711",
        "part": "whole"
       },
       "id": "aa74c995-8bc7-44af-b5e3-73de7565c867"
      }
     }
    },
    "5bf3eb03-4298-4fae-b8e7-3add52071e44": {
     "id": "5bf3eb03-4298-4fae-b8e7-3add52071e44",
     "prev": "68db7836-8876-41a1-b8af-2b3d2f41e616",
     "regions": {
      "cd4966d3-248f-4fb5-affe-b2820def9e99": {
       "attrs": {
        "height": 0.8,
        "width": 0.8,
        "x": 0.1,
        "y": 0.1
       },
       "content": {
        "cell": "a0f251cc-4e31-4138-8bab-956211f005e4",
        "part": "whole"
       },
       "id": "cd4966d3-248f-4fb5-affe-b2820def9e99"
      }
     }
    },
    "68db7836-8876-41a1-b8af-2b3d2f41e616": {
     "id": "68db7836-8876-41a1-b8af-2b3d2f41e616",
     "prev": "88d67dd4-dbe9-40fa-85c5-51cd3e5964f2",
     "regions": {
      "d018046b-aa60-4b2c-8ff4-08a299589baa": {
       "attrs": {
        "height": 0.8,
        "width": 0.8,
        "x": 0.1,
        "y": 0.1
       },
       "content": {
        "cell": "78819cbe-2c36-4c5c-b974-1edef6a94a1d",
        "part": "whole"
       },
       "id": "d018046b-aa60-4b2c-8ff4-08a299589baa"
      }
     }
    },
    "68f51cf9-f1ad-4124-961e-05ab431c7ff7": {
     "id": "68f51cf9-f1ad-4124-961e-05ab431c7ff7",
     "prev": "7347e35d-93af-41df-bb88-7e37c91a8294",
     "regions": {
      "64dbf43e-74a7-44b4-9253-59f1a69dcc7e": {
       "attrs": {
        "height": 0.8,
        "width": 0.8,
        "x": 0.1,
        "y": 0.1
       },
       "content": {
        "cell": "cf6ca053-44db-4a6b-9205-4a9684901cce",
        "part": "whole"
       },
       "id": "64dbf43e-74a7-44b4-9253-59f1a69dcc7e"
      }
     }
    },
    "69511e2c-ebdf-477d-a61a-15fabad82407": {
     "id": "69511e2c-ebdf-477d-a61a-15fabad82407",
     "prev": "e315d353-55b3-4e5c-b83e-12198bf0384b",
     "regions": {
      "6635488f-7cd7-4ccd-865f-fff7d241cca1": {
       "attrs": {
        "height": 0.8,
        "width": 0.8,
        "x": 0.1,
        "y": 0.1
       },
       "content": {
        "cell": "f8c5039a-5be2-4ee4-8b88-945dfb06e111",
        "part": "whole"
       },
       "id": "6635488f-7cd7-4ccd-865f-fff7d241cca1"
      }
     }
    },
    "6ed52af6-2f27-4c8e-8ff0-df869981c4a3": {
     "id": "6ed52af6-2f27-4c8e-8ff0-df869981c4a3",
     "prev": "837e2546-8f7b-49a6-b6a8-6d1463f4a4de",
     "regions": {
      "c2684bc5-0976-4eb0-b32e-a4c51b65389a": {
       "attrs": {
        "height": 0.8,
        "width": 0.8,
        "x": 0.1,
        "y": 0.1
       },
       "content": {
        "cell": "effb22ce-973e-4902-abd8-55b72c429e6d",
        "part": "whole"
       },
       "id": "c2684bc5-0976-4eb0-b32e-a4c51b65389a"
      }
     }
    },
    "7347e35d-93af-41df-bb88-7e37c91a8294": {
     "id": "7347e35d-93af-41df-bb88-7e37c91a8294",
     "prev": "ee00d770-7afb-4058-9913-258e256a8487",
     "regions": {
      "2721cb07-e812-4b79-8a19-40a50f703b1d": {
       "attrs": {
        "height": 0.8,
        "width": 0.8,
        "x": 0.1,
        "y": 0.1
       },
       "content": {
        "cell": "3fb96930-b90f-4717-ab13-ac265d95e72a",
        "part": "whole"
       },
       "id": "2721cb07-e812-4b79-8a19-40a50f703b1d"
      }
     }
    },
    "7e76bac6-a772-4ceb-99c8-d79e09515689": {
     "id": "7e76bac6-a772-4ceb-99c8-d79e09515689",
     "prev": "e6aba98b-5d22-4ace-a3a9-c96b635fbcd8",
     "regions": {
      "01d266c7-0e44-4f45-872c-0403c0711d64": {
       "attrs": {
        "height": 0.8,
        "width": 0.8,
        "x": 0.1,
        "y": 0.1
       },
       "content": {
        "cell": "18cd3672-e5c0-47eb-985a-bce4df543665",
        "part": "whole"
       },
       "id": "01d266c7-0e44-4f45-872c-0403c0711d64"
      }
     }
    },
    "837e2546-8f7b-49a6-b6a8-6d1463f4a4de": {
     "id": "837e2546-8f7b-49a6-b6a8-6d1463f4a4de",
     "prev": "4616a1e0-bfc2-45cb-85d8-bb995dd170e7",
     "regions": {
      "4fbfbec0-ddf7-4bc5-8bf5-bc2704934d15": {
       "attrs": {
        "height": 0.8,
        "width": 0.8,
        "x": 0.1,
        "y": 0.1
       },
       "content": {
        "cell": "468666e3-ead8-4144-aabf-896e8b1b356d",
        "part": "whole"
       },
       "id": "4fbfbec0-ddf7-4bc5-8bf5-bc2704934d15"
      }
     }
    },
    "843ac47d-6c8e-458b-8e93-a57bbe9e566f": {
     "id": "843ac47d-6c8e-458b-8e93-a57bbe9e566f",
     "prev": "e0cf288a-9a4b-49bf-8e7f-09b2d81c8362",
     "regions": {
      "d6c62dc7-230f-474a-be9b-98aad9b0d67e": {
       "attrs": {
        "height": 0.8,
        "width": 0.8,
        "x": 0.1,
        "y": 0.1
       },
       "content": {
        "cell": "a0a82e87-9b5d-4d2b-9ab3-fac4905e5f8f",
        "part": "whole"
       },
       "id": "d6c62dc7-230f-474a-be9b-98aad9b0d67e"
      }
     }
    },
    "859b53bb-978e-4fa3-b877-2078f4784f6e": {
     "id": "859b53bb-978e-4fa3-b877-2078f4784f6e",
     "prev": "49f840a1-ced0-4f06-bffa-b2bc222f7c8d",
     "regions": {
      "8bc88f21-8d8b-448a-82c1-6982a71f0217": {
       "attrs": {
        "height": 0.8,
        "width": 0.8,
        "x": 0.1,
        "y": 0.1
       },
       "content": {
        "cell": "e9e6a2e2-bc65-402c-94fd-5d0ed48ea27f",
        "part": "whole"
       },
       "id": "8bc88f21-8d8b-448a-82c1-6982a71f0217"
      }
     }
    },
    "88d67dd4-dbe9-40fa-85c5-51cd3e5964f2": {
     "id": "88d67dd4-dbe9-40fa-85c5-51cd3e5964f2",
     "prev": "b23806a2-1220-4299-a1bd-291c418d77d7",
     "regions": {
      "299af23f-81e7-43ca-8510-a9a7ecf5742c": {
       "attrs": {
        "height": 0.8,
        "width": 0.8,
        "x": 0.1,
        "y": 0.1
       },
       "content": {
        "cell": "58ce7bec-d9ef-474e-8a6a-2330465b19d2",
        "part": "whole"
       },
       "id": "299af23f-81e7-43ca-8510-a9a7ecf5742c"
      }
     }
    },
    "8ac71be5-b26f-4f2a-a4a3-6db7e9df0b94": {
     "id": "8ac71be5-b26f-4f2a-a4a3-6db7e9df0b94",
     "prev": "27082cc6-ae99-4674-bf47-02f23d9bdee4",
     "regions": {
      "ea3eff74-b728-43d2-ba47-0290e445d634": {
       "attrs": {
        "height": 0.8,
        "width": 0.8,
        "x": 0.1,
        "y": 0.1
       },
       "content": {
        "cell": "02e32699-0363-47b4-8a54-3ccbcaac580e",
        "part": "whole"
       },
       "id": "ea3eff74-b728-43d2-ba47-0290e445d634"
      }
     }
    },
    "939adb69-4e10-42c5-b2da-6bfc8fadf254": {
     "id": "939adb69-4e10-42c5-b2da-6bfc8fadf254",
     "prev": "508d109c-dc6f-46e7-b1f9-faa23a0ac9b4",
     "regions": {
      "7745c0d6-4e49-4f94-8a5d-89b415933b65": {
       "attrs": {
        "height": 0.8,
        "width": 0.8,
        "x": 0.1,
        "y": 0.1
       },
       "content": {
        "cell": "f62837cb-e368-45cb-a60d-dfa661b93563",
        "part": "whole"
       },
       "id": "7745c0d6-4e49-4f94-8a5d-89b415933b65"
      }
     }
    },
    "9aeffb11-cdbf-4e89-8564-4f78dad7f6ab": {
     "id": "9aeffb11-cdbf-4e89-8564-4f78dad7f6ab",
     "prev": "41cc0c3f-dd45-4ed9-a0fa-c9a703a03650",
     "regions": {
      "c982b031-3e4c-4c9e-b604-3ad4091a65b6": {
       "attrs": {
        "height": 0.8,
        "width": 0.8,
        "x": 0.1,
        "y": 0.1
       },
       "content": {
        "cell": "76ad0c35-fcc0-4db9-bd8c-d312614ac15a",
        "part": "whole"
       },
       "id": "c982b031-3e4c-4c9e-b604-3ad4091a65b6"
      }
     }
    },
    "a1501a16-5979-4b9b-acb3-779eebd6c2f6": {
     "id": "a1501a16-5979-4b9b-acb3-779eebd6c2f6",
     "prev": "939adb69-4e10-42c5-b2da-6bfc8fadf254",
     "regions": {
      "0790f70d-7faa-48b2-bd3b-9a4d2200d48f": {
       "attrs": {
        "height": 0.8,
        "width": 0.8,
        "x": 0.1,
        "y": 0.1
       },
       "content": {
        "cell": "8c713410-2017-4898-9fec-69f9b3e66aa9",
        "part": "whole"
       },
       "id": "0790f70d-7faa-48b2-bd3b-9a4d2200d48f"
      }
     }
    },
    "abc666db-2039-4bef-a452-f15cbc40807d": {
     "id": "abc666db-2039-4bef-a452-f15cbc40807d",
     "prev": null,
     "regions": {
      "92cb7c41-a0c5-4139-a319-e09e5c232ac0": {
       "attrs": {
        "height": 0.8,
        "width": 0.8,
        "x": 0.1,
        "y": 0.1
       },
       "content": {
        "cell": "59f304ea-810f-4f22-a5f8-bd0785a2b4dc",
        "part": "whole"
       },
       "id": "92cb7c41-a0c5-4139-a319-e09e5c232ac0"
      }
     }
    },
    "b12f49c2-56df-43b9-a722-99d45704ef93": {
     "id": "b12f49c2-56df-43b9-a722-99d45704ef93",
     "prev": "a1501a16-5979-4b9b-acb3-779eebd6c2f6",
     "regions": {
      "2ac930cd-bd80-4694-ba8c-d1ffd21410fd": {
       "attrs": {
        "height": 0.8,
        "width": 0.8,
        "x": 0.1,
        "y": 0.1
       },
       "content": {
        "cell": "7386069b-9381-47ee-9b5d-9e4e2f3b595f",
        "part": "whole"
       },
       "id": "2ac930cd-bd80-4694-ba8c-d1ffd21410fd"
      }
     }
    },
    "b23806a2-1220-4299-a1bd-291c418d77d7": {
     "id": "b23806a2-1220-4299-a1bd-291c418d77d7",
     "prev": "69511e2c-ebdf-477d-a61a-15fabad82407",
     "regions": {
      "8e9befd9-4265-4ac6-9be3-79fec28675a0": {
       "attrs": {
        "height": 0.8,
        "width": 0.8,
        "x": 0.1,
        "y": 0.1
       },
       "content": {
        "cell": "61843dc2-641c-4960-90ec-6584b816952e",
        "part": "whole"
       },
       "id": "8e9befd9-4265-4ac6-9be3-79fec28675a0"
      }
     }
    },
    "b29c49c9-7ee4-4ed3-89ca-a3737e8048d5": {
     "id": "b29c49c9-7ee4-4ed3-89ca-a3737e8048d5",
     "prev": "8ac71be5-b26f-4f2a-a4a3-6db7e9df0b94",
     "regions": {
      "9e3c8bff-1055-48fd-a10d-81c68a815ce1": {
       "attrs": {
        "height": 0.8,
        "width": 0.8,
        "x": 0.1,
        "y": 0.1
       },
       "content": {
        "cell": "2f70c1fb-86f1-4afe-b41e-8c0ac9423976",
        "part": "whole"
       },
       "id": "9e3c8bff-1055-48fd-a10d-81c68a815ce1"
      }
     }
    },
    "be5dd051-08b9-4b75-bfee-69aec8dc8bd4": {
     "id": "be5dd051-08b9-4b75-bfee-69aec8dc8bd4",
     "prev": "6ed52af6-2f27-4c8e-8ff0-df869981c4a3",
     "regions": {
      "31e3f2a8-e9f4-424b-bbe4-5cf374a3db69": {
       "attrs": {
        "height": 0.8,
        "width": 0.8,
        "x": 0.1,
        "y": 0.1
       },
       "content": {
        "cell": "88ff9d5f-e7ea-4f75-8577-ea8b8e5a0035",
        "part": "whole"
       },
       "id": "31e3f2a8-e9f4-424b-bbe4-5cf374a3db69"
      }
     }
    },
    "e0cf288a-9a4b-49bf-8e7f-09b2d81c8362": {
     "id": "e0cf288a-9a4b-49bf-8e7f-09b2d81c8362",
     "prev": "9aeffb11-cdbf-4e89-8564-4f78dad7f6ab",
     "regions": {
      "91c888f7-1fa7-498d-965c-d3d456a9cedd": {
       "attrs": {
        "height": 0.8,
        "width": 0.8,
        "x": 0.1,
        "y": 0.1
       },
       "content": {
        "cell": "1bd7850f-5ff8-400a-bd06-ef890950c55c",
        "part": "whole"
       },
       "id": "91c888f7-1fa7-498d-965c-d3d456a9cedd"
      }
     }
    },
    "e315d353-55b3-4e5c-b83e-12198bf0384b": {
     "id": "e315d353-55b3-4e5c-b83e-12198bf0384b",
     "prev": "46a8ce3d-f78f-4947-a59a-268d084d0b58",
     "regions": {
      "273288b8-1781-43b4-989c-0f1eb1f7bc60": {
       "attrs": {
        "height": 0.8,
        "width": 0.8,
        "x": 0.1,
        "y": 0.1
       },
       "content": {
        "cell": "d0d1b89a-8395-4121-8f61-72f7c1a23b7f",
        "part": "whole"
       },
       "id": "273288b8-1781-43b4-989c-0f1eb1f7bc60"
      }
     }
    },
    "e6aba98b-5d22-4ace-a3a9-c96b635fbcd8": {
     "id": "e6aba98b-5d22-4ace-a3a9-c96b635fbcd8",
     "prev": "4bce0036-880a-4149-976e-363d27a90a80",
     "regions": {
      "a45e847b-d364-4494-9983-8953c2f3f5d2": {
       "attrs": {
        "height": 0.8,
        "width": 0.8,
        "x": 0.1,
        "y": 0.1
       },
       "content": {
        "cell": "e5a7c336-8352-45ef-b85b-42e4c8d1a994",
        "part": "whole"
       },
       "id": "a45e847b-d364-4494-9983-8953c2f3f5d2"
      }
     }
    },
    "ee00d770-7afb-4058-9913-258e256a8487": {
     "id": "ee00d770-7afb-4058-9913-258e256a8487",
     "prev": "843ac47d-6c8e-458b-8e93-a57bbe9e566f",
     "regions": {
      "71d93c3c-91e2-4d1f-9f60-9b7ab6638621": {
       "attrs": {
        "height": 0.8,
        "width": 0.8,
        "x": 0.1,
        "y": 0.1
       },
       "content": {
        "cell": "c82ae373-9883-4cce-97bf-5dd2fa44bc7f",
        "part": "whole"
       },
       "id": "71d93c3c-91e2-4d1f-9f60-9b7ab6638621"
      }
     }
    },
    "faa78638-6a56-44d2-9082-0ed4009989c8": {
     "id": "faa78638-6a56-44d2-9082-0ed4009989c8",
     "prev": "0a37f1a1-ebc7-49bc-9136-891c9154c3fc",
     "regions": {
      "7df894f5-39e9-4928-a0c9-383858ad2ba0": {
       "attrs": {
        "height": 0.8,
        "width": 0.8,
        "x": 0.1,
        "y": 0.1
       },
       "content": {
        "cell": "8812c7dd-65c3-453b-99b7-cb73a10b9b9d",
        "part": "whole"
       },
       "id": "7df894f5-39e9-4928-a0c9-383858ad2ba0"
      }
     }
    }
   },
   "themes": {}
  }
 },
 "nbformat": 4,
 "nbformat_minor": 1
}
