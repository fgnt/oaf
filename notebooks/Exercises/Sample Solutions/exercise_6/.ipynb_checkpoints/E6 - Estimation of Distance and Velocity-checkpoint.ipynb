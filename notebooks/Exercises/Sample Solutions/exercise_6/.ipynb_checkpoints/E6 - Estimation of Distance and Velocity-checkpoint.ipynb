{
 "cells": [
  {
   "cell_type": "markdown",
   "metadata": {},
   "source": [
    "# Exercise 6: Estimation of Distance and Velocity"
   ]
  },
  {
   "cell_type": "code",
   "execution_count": 1,
   "metadata": {
    "collapsed": true
   },
   "outputs": [],
   "source": [
    "import numpy as np\n",
    "import matplotlib.pyplot as plt\n",
    "%matplotlib inline"
   ]
  },
  {
   "cell_type": "markdown",
   "metadata": {},
   "source": [
    "##  System"
   ]
  },
  {
   "cell_type": "code",
   "execution_count": 3,
   "metadata": {
    "collapsed": true
   },
   "outputs": [],
   "source": [
    "a = np.eye(2)\n",
    "b = np.zeros((2,2))"
   ]
  },
  {
   "cell_type": "code",
   "execution_count": 4,
   "metadata": {
    "collapsed": false
   },
   "outputs": [],
   "source": [
    "# sampling period in seconds\n",
    "T = 0.1\n",
    "\n",
    "# total simulation time in seconds\n",
    "total_time = 30\n",
    "\n",
    "# System matrix\n",
    "F = np.eye(4)\n",
    "F[0,2] = T\n",
    "F[1,3] = T\n",
    "\n",
    "# Measurement matrix\n",
    "H = np.concatenate((np.eye(2), np.zeros((2,2))), 1).T\n",
    "\n",
    "# influence of the noise on the system state\n",
    "G = np.eye(4)\n",
    "\n",
    "# covariance matrix of the measurement noise\n",
    "sigma_x = 2\n",
    "sigma_y = 5\n",
    "Q_2 = np.diag([sigma_x**2, sigma_y**2])\n",
    "\n",
    "# covariance matrix of the system noise\n",
    "a_x = 1\n",
    "a_y = 1\n",
    "Q_1 = np.asarray([[a_x * T ** 4 / 4, 0, a_x * T ** 3 / 2, 0],\n",
    "                 [0, a_y * T ** 4 / 4, 0, 0],\n",
    "                 [a_x * T ** 3 / 2, 0 , a_x * T, a_y * T ** 3 / 2],\n",
    "                 [0, a_y * T ** 3 / 2, 0, a_y * T]])"
   ]
  },
  {
   "cell_type": "markdown",
   "metadata": {},
   "source": [
    "### True states"
   ]
  },
  {
   "cell_type": "code",
   "execution_count": 5,
   "metadata": {
    "collapsed": false
   },
   "outputs": [
    {
     "data": {
      "text/plain": [
       "array([[0, 0, 0, 0],\n",
       "       [0, 0, 0, 0],\n",
       "       [0, 0, 1, 0],\n",
       "       [0, 0, 0, 1]])"
      ]
     },
     "execution_count": 5,
     "metadata": {},
     "output_type": "execute_result"
    }
   ],
   "source": [
    "np.diag([0,0,1,1])"
   ]
  },
  {
   "cell_type": "code",
   "execution_count": 6,
   "metadata": {
    "collapsed": false,
    "scrolled": true
   },
   "outputs": [
    {
     "data": {
      "text/plain": [
       "[<matplotlib.lines.Line2D at 0x7fdd50074710>]"
      ]
     },
     "execution_count": 6,
     "metadata": {},
     "output_type": "execute_result"
    },
    {
     "data": {
      "image/png": "[encoded data removed]",
      "text/plain": [
       "<matplotlib.figure.Figure at 0x7fdd500747b8>"
      ]
     },
     "metadata": {},
     "output_type": "display_data"
    }
   ],
   "source": [
    "# Random start position according to known statistics\n",
    "true_state = np.random.multivariate_normal(np.zeros(4), Q_1, 1).T\n",
    "\n",
    "# Initialization of state estimate, i.e. alpha_hat(1|0)\n",
    "state_prediction = np.zeros((4,1))\n",
    "\n",
    "# Initial covariance matrix of estimation error\n",
    "S = G @ Q_1 @ G.T\n",
    "\n",
    "total_steps = np.arange(0, total_time, T)\n",
    "true_state_history = np.zeros((len(total_steps), 2))\n",
    "position_estimate_history = np.zeros((len(total_steps), 2))\n",
    "velocity_estimate_history = np.zeros((len(total_steps), 2))\n",
    "position_prediction_history = np.zeros((len(total_steps), 2))\n",
    "observation_history = np.zeros((len(total_steps), 2))\n",
    "\n",
    "counter = 0\n",
    "for t in total_steps:\n",
    "    # Calculate next true system state\n",
    "    v1 = np.random.multivariate_normal(np.zeros(4), np.diag([0,0,1,1]), 1).T\n",
    "    true_state = F @ true_state + v1\n",
    "    \n",
    "    # Calculate current observation/ measurement\n",
    "    v2 = np.random.multivariate_normal(np.zeros(2), np.eye(2), 1).T\n",
    "    z = H.T @ true_state + v2\n",
    "    \n",
    "    # Kalman gain\n",
    "    a = np.linalg.inv(H.T @ S @ H + Q_2)\n",
    "    K = S @ H @ np.linalg.inv(H.T @ S @ H + Q_2)\n",
    "    \n",
    "    # Innovation sequence \n",
    "    innovation = z - H.T @ state_prediction\n",
    "    \n",
    "    # Current position estimate\n",
    "    state_estimate = state_prediction + K @ innovation\n",
    "    \n",
    "    # One step recursion for state prediction mean\n",
    "    state_prediction = F @ state_estimate\n",
    "    \n",
    "    # one step recursion for state prediction covariance matrix\n",
    "    S = F @ S @ F.T - F @ K @ H.T @ S @ F.T + G @ Q_1 @ G.T\n",
    "    #print(np.trace(S))\n",
    "    \n",
    "    true_state_history[counter, :] = true_state[:2, 0]\n",
    "    observation_history[counter, :] = z[:, 0]\n",
    "    position_estimate_history[counter, :] = state_estimate[:2, 0]\n",
    "    position_prediction_history[counter, :] = state_prediction[:2, 0]\n",
    "    velocity_estimate_history[counter, :] = state_estimate[2:4, 0]\n",
    "    \n",
    "    counter += 1\n",
    "    \n",
    "plt.plot(true_state_history[:, 0], true_state_history[: , 1], 'g')\n",
    "plt.plot(position_estimate_history[:, 0], position_estimate_history[:, 1], 'r')"
   ]
  },
  {
   "cell_type": "code",
   "execution_count": null,
   "metadata": {
    "collapsed": true
   },
   "outputs": [],
   "source": []
  }
 ],
 "metadata": {
  "anaconda-cloud": {},
  "kernelspec": {
   "display_name": "Python [conda env:py35]",
   "language": "python",
   "name": "conda-env-py35-py"
  },
  "language_info": {
   "codemirror_mode": {
    "name": "ipython",
    "version": 3
   },
   "file_extension": ".py",
   "mimetype": "text/x-python",
   "name": "python",
   "nbconvert_exporter": "python",
   "pygments_lexer": "ipython3",
   "version": "3.5.2"
  }
 },
 "nbformat": 4,
 "nbformat_minor": 0
}
