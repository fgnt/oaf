{
 "cells": [
  {
   "cell_type": "markdown",
   "metadata": {},
   "source": [
    "# Exercise 5: Mobilephones"
   ]
  },
  {
   "cell_type": "code",
   "execution_count": 1,
   "metadata": {
    "collapsed": true
   },
   "outputs": [],
   "source": [
    "import numpy as np\n",
    "import matplotlib.pyplot as plt\n",
    "%matplotlib inline"
   ]
  },
  {
   "cell_type": "markdown",
   "metadata": {},
   "source": [
    "## a) Generate the measured data\n",
    "### from given position of the cell phone and the base stations"
   ]
  },
  {
   "cell_type": "code",
   "execution_count": 2,
   "metadata": {
    "collapsed": true
   },
   "outputs": [],
   "source": [
    "# true position of the cell phone in [km]\n",
    "MS = np.asarray((5,5))\n",
    "\n",
    "# Number of equations in the final set of equation\n",
    "K = 3\n",
    "\n",
    "# Number of base stations available\n",
    "N = K + 1\n",
    "\n",
    "# Base station positions in [km]\n",
    "BS = np.asarray([(0, 0), (-5, 6), (7, 8), (0, 15)])"
   ]
  },
  {
   "cell_type": "markdown",
   "metadata": {},
   "source": [
    "## Calculate the time of flights (TOF)"
   ]
  },
  {
   "cell_type": "code",
   "execution_count": 4,
   "metadata": {
    "collapsed": false
   },
   "outputs": [
    {
     "name": "stdout",
     "output_type": "stream",
     "text": [
      "Distances in [km]: [  7.07106781  10.04987562   3.60555128  11.18033989]\n",
      "Time in [ms]: [ 0.02357023  0.03349959  0.0120185   0.0372678 ]\n"
     ]
    }
   ],
   "source": [
    "# Propagation speed in [km/ms]\n",
    "c = 3 * 10 ** 2\n",
    "\n",
    "# Distance (norm) from mobile station to base stations in [km]\n",
    "d_true = np.linalg.norm(BS - MS, axis=1)\n",
    "\n",
    "# True propagation delay in [ms]\n",
    "t_true = d_true / c\n",
    "\n",
    "print('Distances in [km]: {}'.format(d_true))\n",
    "print('Time in [ms]: {}'.format(t_true))"
   ]
  },
  {
   "cell_type": "markdown",
   "metadata": {},
   "source": [
    "## Measurements are true observations corrupted by additive noise"
   ]
  },
  {
   "cell_type": "code",
   "execution_count": 169,
   "metadata": {
    "collapsed": false
   },
   "outputs": [
    {
     "name": "stdout",
     "output_type": "stream",
     "text": [
      "Distances in [km]: [  7.10106781  10.94987562   4.02555128  11.06033989]\n",
      "Time in [ms]: [ 0.02367023  0.03649959  0.0134185   0.0368678 ]\n"
     ]
    }
   ],
   "source": [
    "sigma_n = 0.00001\n",
    "# random\n",
    "noise = np.sqrt(sigma_n) * np.random.randn(N)\n",
    "\n",
    "# given?\n",
    "noise = (0.0001, 0.003, 0.0014, -0.0004)\n",
    "\n",
    "# corrupted measurements\n",
    "t_measured = t_true + noise\n",
    "d_measured = t_measured * c\n",
    "\n",
    "print('Distances in [km]: {}'.format(d_measured))\n",
    "print('Time in [ms]: {}'.format(t_measured))"
   ]
  },
  {
   "cell_type": "markdown",
   "metadata": {},
   "source": [
    "## b) Calculate TDOA based on noisy TOF\n",
    "### choose BS 0 to be the origin"
   ]
  },
  {
   "cell_type": "code",
   "execution_count": 170,
   "metadata": {
    "collapsed": true
   },
   "outputs": [],
   "source": [
    "Dt_measured_0 = (d_measured[0]**2 - d_measured**2)[1:]\n",
    "BS_0 = BS[1:]"
   ]
  },
  {
   "cell_type": "markdown",
   "metadata": {},
   "source": [
    "## Time of flight method (TOF)"
   ]
  },
  {
   "cell_type": "code",
   "execution_count": 171,
   "metadata": {
    "collapsed": false
   },
   "outputs": [
    {
     "name": "stdout",
     "output_type": "stream",
     "text": [
      "[ 5.55511583  4.82224276]\n"
     ]
    }
   ],
   "source": [
    "A = 2 * BS_0 \n",
    "b = BS_0[:, 0] ** 2 + BS_0[:, 1] ** 2 + Dt_measured_0\n",
    "a_TOF = np.linalg.inv(A.T @ A) @ A.T @ b\n",
    "print(a_TOF)"
   ]
  },
  {
   "cell_type": "markdown",
   "metadata": {},
   "source": [
    "## e) Time difference fo arrival (TDOA)"
   ]
  },
  {
   "cell_type": "code",
   "execution_count": 172,
   "metadata": {
    "collapsed": false
   },
   "outputs": [
    {
     "name": "stdout",
     "output_type": "stream",
     "text": [
      "[ 10.56969029   3.00649198]\n"
     ]
    }
   ],
   "source": [
    "delta_d_k_0 = (d_measured -  d_measured[0])[1:]\n",
    "B = np.concatenate((delta_d_k_0[:, None], BS_0), axis=1)\n",
    "d = (np.linalg.norm(BS[1:], axis=1)**2 - delta_d_k_0**2)/2\n",
    "\n",
    "w_TDOA = np.linalg.inv(B.T @ B) @ B.T @ d\n",
    "a_TDOA = w_TDOA[1:]\n",
    "print(a_TDOA)"
   ]
  }
 ],
 "metadata": {
  "anaconda-cloud": {},
  "kernelspec": {
   "display_name": "Python [conda env:py35]",
   "language": "python",
   "name": "conda-env-py35-py"
  },
  "language_info": {
   "codemirror_mode": {
    "name": "ipython",
    "version": 3
   },
   "file_extension": ".py",
   "mimetype": "text/x-python",
   "name": "python",
   "nbconvert_exporter": "python",
   "pygments_lexer": "ipython3",
   "version": "3.5.2"
  }
 },
 "nbformat": 4,
 "nbformat_minor": 0
}
